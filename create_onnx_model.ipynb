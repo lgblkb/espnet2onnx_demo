{
 "cells": [
  {
   "cell_type": "code",
   "execution_count": 22,
   "id": "7fdd600d",
   "metadata": {},
   "outputs": [],
   "source": [
    "from espnet_onnx.export import ASRModelExport\n",
    "import librosa\n",
    "from espnet_onnx import Speech2Text"
   ]
  },
  {
   "cell_type": "code",
   "execution_count": 23,
   "id": "5f072375",
   "metadata": {},
   "outputs": [],
   "source": [
    "m = ASRModelExport(cache_dir='/raid/saida_mussakhojayeva/projects/espnet_onnx_demo/')"
   ]
  },
  {
   "cell_type": "code",
   "execution_count": 24,
   "id": "6dd52947",
   "metadata": {
    "collapsed": true
   },
   "outputs": [
    {
     "name": "stderr",
     "output_type": "stream",
     "text": [
      "/home/saida_mussakhojayeva/anaconda3/envs/espnet/lib/python3.8/site-packages/espnet_model_zoo/downloader.py:217: UserWarning: Expanding a local model to the cachedir. If you'll move the file to another path, it's treated as a different model.\n",
      "  warnings.warn(\n",
      "/raid/saida_mussakhojayeva/projects/espnet/espnet/nets/pytorch_backend/transformer/attention.py:81: TracerWarning: torch.tensor results are registered as constants in the trace. You can safely ignore this warning if you use this function to create tensors out of constant variables that would be the same every time you call this function. In any other case, this might cause the trace to be incorrect.\n",
      "  numpy.finfo(torch.tensor(0, dtype=scores.dtype).numpy().dtype).min\n",
      "/raid/saida_mussakhojayeva/projects/espnet/espnet/nets/pytorch_backend/transformer/attention.py:81: TracerWarning: Converting a tensor to a NumPy array might cause the trace to be incorrect. We can't record the data flow of Python values, so this value will be treated as a constant in the future. This means that the trace might not generalize to other inputs!\n",
      "  numpy.finfo(torch.tensor(0, dtype=scores.dtype).numpy().dtype).min\n",
      "/home/saida_mussakhojayeva/anaconda3/envs/espnet/lib/python3.8/site-packages/torch/onnx/symbolic_helper.py:719: UserWarning: allowzero=0 by default. In order to honor zero value in shape use allowzero=1\n",
      "  warnings.warn(\"allowzero=0 by default. In order to honor zero value in shape use allowzero=1\")\n",
      "/raid/saida_mussakhojayeva/projects/espnet/espnet/nets/pytorch_backend/transformer/decoder_layer.py:90: TracerWarning: Converting a tensor to a Python boolean might cause the trace to be incorrect. We can't record the data flow of Python values, so this value will be treated as a constant in the future. This means that the trace might not generalize to other inputs!\n",
      "  assert cache.shape == (\n",
      "/raid/saida_mussakhojayeva/projects/espnet/espnet/nets/pytorch_backend/transformer/encoder_layer.py:94: TracerWarning: Converting a tensor to a Python boolean might cause the trace to be incorrect. We can't record the data flow of Python values, so this value will be treated as a constant in the future. This means that the trace might not generalize to other inputs!\n",
      "  assert cache.shape == (x.shape[0], x.shape[1] - 1, self.size)\n"
     ]
    }
   ],
   "source": [
    "m.set_export_config(max_seq_len=3000)\n",
    "m.export_from_zip('/raid/saida_mussakhojayeva/projects/espnet/egs2/Kazakh_ASR/asr1/exp/asr_train_asr_raw_ksc2_char_sp/asr_train_asr_raw_ksc2_char_sp_valid.acc.best.zip',\n",
    "  tag_name='train_asr_ksc_v1')"
   ]
  },
  {
   "cell_type": "code",
   "execution_count": 25,
   "id": "5ca9ad7a",
   "metadata": {},
   "outputs": [],
   "source": [
    "import librosa\n",
    "from espnet_onnx import Speech2Text"
   ]
  },
  {
   "cell_type": "code",
   "execution_count": 28,
   "id": "2e35d6cd",
   "metadata": {},
   "outputs": [],
   "source": [
    "speech2text = Speech2Text(model_dir='train_asr_ksc_v1')"
   ]
  },
  {
   "cell_type": "code",
   "execution_count": 29,
   "id": "1cf0e73e",
   "metadata": {},
   "outputs": [],
   "source": [
    "y, sr = librosa.load('sample.wav', sr=16000)\n",
    "nbest = speech2text(y)[0][0]"
   ]
  },
  {
   "cell_type": "code",
   "execution_count": null,
   "id": "8d9ef3b1",
   "metadata": {},
   "outputs": [],
   "source": [
    "nbest[0][0]"
   ]
  },
  {
   "cell_type": "code",
   "execution_count": null,
   "id": "0051aef1",
   "metadata": {},
   "outputs": [],
   "source": []
  }
 ],
 "metadata": {
  "kernelspec": {
   "display_name": "Python [conda env:espnet]",
   "language": "python",
   "name": "conda-env-espnet-py"
  },
  "language_info": {
   "codemirror_mode": {
    "name": "ipython",
    "version": 3
   },
   "file_extension": ".py",
   "mimetype": "text/x-python",
   "name": "python",
   "nbconvert_exporter": "python",
   "pygments_lexer": "ipython3",
   "version": "3.8.13"
  }
 },
 "nbformat": 4,
 "nbformat_minor": 5
}
