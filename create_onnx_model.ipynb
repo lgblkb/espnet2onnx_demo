{
 "cells": [
  {
   "cell_type": "code",
   "execution_count": null,
   "id": "7fdd600d",
   "metadata": {},
   "outputs": [],
   "source": [
    "from espnet_onnx.export import ASRModelExport\n",
    "import librosa\n",
    "from espnet_onnx import Speech2Text\n",
    "import os"
   ]
  },
  {
   "cell_type": "code",
   "execution_count": null,
   "id": "5f072375",
   "metadata": {},
   "outputs": [],
   "source": [
    "m = ASRModelExport() #cache_dir='/raid/saida_mussakhojayeva/projects/espnet2onnx_demo/'"
   ]
  },
  {
   "cell_type": "code",
   "execution_count": null,
   "id": "bac54cad",
   "metadata": {},
   "outputs": [],
   "source": [
    "model_path='asr_train_asr_raw_ksc2_char_sp_valid.acc.ave.zip'"
   ]
  },
  {
   "cell_type": "code",
   "execution_count": null,
   "id": "d64dd185",
   "metadata": {},
   "outputs": [],
   "source": [
    "os.path.exists(model_path)"
   ]
  },
  {
   "cell_type": "code",
   "execution_count": null,
   "id": "6dd52947",
   "metadata": {},
   "outputs": [],
   "source": [
    "m.set_export_config(max_seq_len=2000)\n",
    "m.export_from_zip(model_path,\n",
    "  tag_name='train_asr_ksc_v3', optimize=True, quantize=True)"
   ]
  },
  {
   "cell_type": "code",
   "execution_count": null,
   "id": "5ca9ad7a",
   "metadata": {},
   "outputs": [],
   "source": [
    "import librosa, time\n",
    "from espnet_onnx import Speech2Text"
   ]
  },
  {
   "cell_type": "code",
   "execution_count": null,
   "id": "2e35d6cd",
   "metadata": {},
   "outputs": [],
   "source": [
    "speech2text = Speech2Text(model_dir='train_asr_ksc_v3', use_quantized=True)"
   ]
  },
  {
   "cell_type": "code",
   "execution_count": null,
   "id": "f9ae8d53",
   "metadata": {},
   "outputs": [],
   "source": [
    "y, sr = librosa.load('sample.wav', sr=16000)"
   ]
  },
  {
   "cell_type": "code",
   "execution_count": null,
   "id": "1cf0e73e",
   "metadata": {},
   "outputs": [],
   "source": [
    "timer = time.perf_counter()\n",
    "text = speech2text(y)[0][0]\n",
    "print('time passed:', (time.perf_counter()-timer))"
   ]
  },
  {
   "cell_type": "code",
   "execution_count": null,
   "id": "0051aef1",
   "metadata": {},
   "outputs": [],
   "source": [
    "print(text)"
   ]
  },
  {
   "cell_type": "code",
   "execution_count": null,
   "id": "3fad7f4e",
   "metadata": {},
   "outputs": [],
   "source": []
  }
 ],
 "metadata": {
  "kernelspec": {
   "display_name": "Python [conda env:espnet]",
   "language": "python",
   "name": "conda-env-espnet-py"
  },
  "language_info": {
   "codemirror_mode": {
    "name": "ipython",
    "version": 3
   },
   "file_extension": ".py",
   "mimetype": "text/x-python",
   "name": "python",
   "nbconvert_exporter": "python",
   "pygments_lexer": "ipython3",
   "version": "3.9.12"
  }
 },
 "nbformat": 4,
 "nbformat_minor": 5
}
